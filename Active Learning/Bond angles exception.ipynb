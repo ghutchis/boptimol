{
 "cells": [
  {
   "cell_type": "code",
   "execution_count": 1,
   "id": "f53e7e63",
   "metadata": {},
   "outputs": [],
   "source": [
    "import pandas as pd\n",
    "import numpy as np\n",
    "import matplotlib.pyplot as plt\n",
    "import random\n",
    "import torch\n",
    "\n",
    "from openbabel import pybel\n",
    "from openbabel import openbabel as ob\n",
    "\n",
    "import os\n",
    "from contextlib import contextmanager\n",
    "import pickle\n",
    "import blosc\n",
    "\n",
    "from pprint import pprint\n",
    "import re"
   ]
  },
  {
   "cell_type": "markdown",
   "id": "8d9029d9",
   "metadata": {},
   "source": [
    "## Importing the required pickle files and merging them"
   ]
  },
  {
   "cell_type": "code",
   "execution_count": 2,
   "id": "63749c8f",
   "metadata": {},
   "outputs": [],
   "source": [
    "def mergeDictionaries(dict1 : dict, dict2: dict):\n",
    "    '''Merges two Python dictionaries with one being merged being a numpy arrays (with dtype as object) \n",
    "        as values by combining elements for a common key\n",
    "        The function merges dict2 into dict 1'''\n",
    "    for key, value in dict2.items():\n",
    "        if key in dict1:\n",
    "            dict1[key].extend(list(value))\n",
    "        else:\n",
    "            dict1[key] = list(value)"
   ]
  },
  {
   "cell_type": "code",
   "execution_count": 3,
   "id": "ec5e54c7",
   "metadata": {},
   "outputs": [],
   "source": [
    "bond_angles={}\n",
    "folders = ['0', 'A', 'B', 'C', 'D', 'H', 'I', 'J', 'K', 'N', 'O', 'P', 'Q'\n",
    "          , 'T', 'U', 'V', 'W', 'X', 'Z']\n",
    "\n",
    "for fold in folders:\n",
    "    with open(f\"pkl/{fold}/cod-crest_bond_angles.pkl\", \"rb\") as f:\n",
    "        compressed_pickle = f.read()\n",
    "        mergeDictionaries(bond_angles, pickle.loads(compressed_pickle))"
   ]
  },
  {
   "cell_type": "code",
   "execution_count": 4,
   "id": "8be46ca4",
   "metadata": {},
   "outputs": [
    {
     "data": {
      "text/plain": [
       "dict_keys(['Cl - C - Npl', 'C - C - Cl', 'C - C - Npl', 'C - Npl - H', 'C - Npl - C', 'C - C - H', 'C - C - C', 'H - C - Npl', 'H - C - P', 'Npl - C - P', 'P - C - P', 'C - P - O', 'O - P - O', 'HO - O - P', 'C - O - HO', 'C - C - O', 'C - N - Car', 'H - C - N', 'C - C - N', 'Car - Car - N', 'Car - Car - Car', 'C - Car - Car', 'Car - Car - H', 'C - C - Car', 'Car - C - H', 'H - C - H', 'Car - C - Car', 'O - C - O', 'HO - O - HO', 'H - C - O', 'H - C - Nam', 'C - C - Nam', 'C - Nam - C', 'C - Nam - H', 'Nam - C - O', 'Car - C - O', 'Car - C - Nam', 'Car - Car - Cl', 'C - O - C', 'C - C - Nar', 'C - Nar - Car', 'Car - Nar - Nar', 'C - Nar - Nar', 'Nar - Car - O', 'Nar - Car - Nar', 'C - Car - Nar', 'Car - Nar - Car', 'Car - Car - Nar', 'C - O - Car', 'Car - Car - O', 'Car - Car - Ntr', 'Car - Ntr - O', 'O - Ntr - O', 'O.co - Cac - O.co', 'C - Cac - O.co', 'Cac - C - H', 'Cac - C - Npl', 'Npl - C - Npl', 'Car - S - Car', 'C - Car - S', 'Car - Car - S', 'H - Car - S', 'H - C - Nox', 'C - C - Nox', 'Car - C - Nox', 'C - Nox - O', 'C - Nox - C', 'HO - O - Nox', 'O - Nox - O', 'Car - Cac - O.co', 'Cac - Car - Car', 'H - Car - Nar', 'Car - O - HO', 'Car - C - N', 'Nar - Car - S', 'Car - Nar - H', 'Nam - C - S', 'Nam - C - Nam', 'H - Nam - H', 'C - Nam - Car', 'Car - Car - Nam', 'C - Si - H', 'C - Si - C', 'H - C - Si', 'C - C - Si', 'Cac - C - O', 'C - C - P', 'Car - P - O', 'Car - Car - P', 'Car - Car - Npl', 'Car - Npl - H', 'H - Npl - H', 'C - Si - O', 'O - Si - O', 'C - O - Si', 'C - N - C', 'C - S - C', 'S - C - S', 'C - C - S', 'H - C - S', 'H - N - H', 'C - Car - O', 'Car - O - Car', 'H - Car - O', 'N - C - O', 'C - N - H', 'C - C - Cac', 'H - Nar - Nar', 'Car - Car - F', 'H - C - Nar', 'Car - C - Npl', 'Npl - C - O', 'O - Car - O', 'Car - N - H', 'Car - Npl - Car', 'C - Npl - Car', 'N - C - Npl', 'N - C - N', 'Car - Nam - H', 'Car - Car - I', 'C - Npl - N', 'C - N - Npl', 'N+ - C - P', 'H - C - N+', 'H - N+ - H', 'C - N+ - H', 'C - N+ - C', 'C - C - N+', 'Nar - Car - Npl', 'C - Pac - O', 'O - Pac - O', 'C - C - Pac', 'P - C - Pac', 'N+ - C - Pac', 'B - Car - Car', 'Car - B - Car', 'Br - Car - Car', 'C - Si - Car', 'Car - Si - Car', 'Car - Car - Si', 'N - C - Nox', 'Nox - C - Npl', 'C - Npl - Npl', 'Car - N - N', 'C - C - I', 'P - O - P', 'C - P - Car', 'C - P - C', 'N - C - P', 'C - Nam - N', 'H - Nam - N', 'H - N - Nam', 'Cac - Car - Nar', 'Cac - C - N+', 'Car - Npl - N', 'Car - P - Car', 'Cac - C - S', 'O - Sac - O', 'C - Sac - O', 'H - C - Sac', 'C - C - Sac', 'HO - O - S', 'C - S - S', 'C - S - O', 'O - S - O', 'Car - O - Pac', 'HO - O - Pac', 'Car - O - P', 'Cac - C - Car', 'Cac - C - Nam', 'C - O - S', 'Cl - C - H', 'F - C - O', 'F - C - F', 'C - S - Car', 'Npl - C - S', 'Car - C - S', 'B - Npl - Car', 'B - Npl - C', 'C - B - C', 'C - B - Nar', 'C - B - Npl', 'Nar - B - Npl', 'B - Nar - Car', 'B - C - C', 'H - Npl - N', 'O - Ntr - O-', 'Car - Ntr - O-', 'Car - C - O-', 'O - C - O-', 'C - O- - H', 'C - O- - HO', 'C - C - O-', 'O - So - O', 'C - So - O', 'C - So - C', 'C - C - So', 'H - C - So', 'Car - C - So', 'C - B - Car', 'B - C - H', 'Car - Si - O', 'C - N - O', 'HO - O - N', 'C - Se - Car', 'Car - Car - Se', 'C - C - Se', 'H - C - Se', 'B - O - C', 'C - B - O', 'O - B - O', 'N+ - B - O', 'C - B - N+', 'B - N+ - C', 'Car - C - F', 'N - C - S', 'Cl - Si - Cl', 'Cl - Si - H', 'C - Si - Cl', 'Br - C - C', 'C - Npl - C+', 'N - C+ - Npl', 'N - C+ - N', 'C - N - C+', 'Nam - Car - Nar', 'N - S - O', 'Car - O - S', 'H - N - S', 'B - C - Car', 'Car - Car - So', 'Car - So - O', 'Nam - So - O', 'Car - So - Nam', 'H - Nam - So', 'C - Nam - So', 'Car - S - O', 'B - O - HO', 'C - Npl - Si', 'C - Si - Npl', 'C - Ntr - O', 'C - C - Ntr', 'C - N - Nam', 'N - So - O', 'Car - So - N', 'H - N - So', 'C - N - So', 'Car - Npl - Npl', 'Nar - So - O', 'Car - So - Nar', 'Car - Nar - So', 'C - O - P', 'C - C - F', 'Cl - C - Cl', 'Car - Nox - O', 'C - Nox - Car', 'Car - Car - Nox', 'Nar - Car - Nox', 'Npl - P - O', 'N - P - O', 'N - P - Npl', 'N - P - N', 'H - Npl - P', 'Car - Npl - P', 'C - N - P', 'H - N - P', 'P - N - P', 'N - P - Nam', 'C - Nam - Nam', 'Nam - Nam - P', 'C - Nam - P', 'H - Nam - Nam', 'H - N - Npl', 'F - C - P', 'Car - C - P', 'Cl - Car - Nar', 'C - So - N', 'C - Nam - O', 'H - Nam - O', 'HO - O - Nam', 'Car - B - N', 'B - N - C', 'N - C - Nam', 'H - C - I', 'C+ - Npl - Car', 'Nar - C - O', 'Npl - C+ - Npl', 'C+ - Npl - H', 'C - P - I', 'Br - C - H', 'B - O - Si', 'Car - B - O', 'Car - Car - Sox', 'C - Sox - Car', 'C - Sox - O', 'Car - Sox - O', 'H - C - Sox', 'B - B - H', 'B - B - Npl', 'H - B - Npl', 'B - B - B', 'H - B - H', 'B - B - C', 'Nam - P - O', 'H - Nam - P', 'C - O - Nox', 'Car - Nam - N', 'Npl - Car - S', 'Car - So - Npl', 'Npl - So - O', 'C - Npl - So', 'H - Npl - So', 'P - C - Si', 'Car - B - Nox', 'C - B - Nox', 'Car - P - Nox', 'C - P - Nox', 'B - Nox - P', 'B - Nox - O', 'O - Nox - P', 'Car - Npl - So', 'O - P - S', 'Nam - P - S', 'Nam - C - Npl', 'F - B - Nar', 'F - B - F', 'Nar - B - Nar', 'C - P - S', 'Car - P - S', 'C - O - O', 'C - O - Nam', 'Car - B - F', 'O - C - S', 'C - Sox - N', 'N - Sox - O', 'H - N - Sox', 'C - N - Sox', 'C - C - Sox', 'C - N - N', 'P - C - S', 'Nam - C - P', 'Nar - C - Nar', 'Br - Car - S', 'C - Si - N', 'C - N - Si', 'Car - C - Nar', 'Nar - Car - Ntr', 'C - P - Npl', 'Cl - C - O', 'B - O - O', 'HO - O - O', 'C - Si - Si', 'Si - Si - Si', 'O - C - Si', 'C - So - Car', 'Ntr - C - So', 'C - O - N', 'B - Nar - C', 'Car - B - Nar', 'H - B - Nar', 'Car - B - H', 'C - B - F', 'Car - Car - Sac', 'Car - Sac - O', 'Car - N - O', 'H - C - Ntr', 'Car - O - Nar', 'Car - Nar - O', 'Cl - B - Cl', 'Cl - B - P', 'P - B - P', 'B - P - C', 'B - P - B', 'Car - Se - O', 'Cl - C - Nam', 'O - Car - S', 'P - Car - S', 'Nar - O - Nar', 'Nar - Nar - O', 'Nar - Nar - Nar', 'HO - O - Nar', 'S - Car - Si', 'Car - Nar - O-', 'Nar - Nar - O-', 'C - Sox - C', 'Nam - C - Sox', 'I - Si - Npl', 'Npl - Si - Npl', 'Car - Npl - Si', 'Car - P - N', 'Car - So - Car', 'F - C - So', 'C - Nam - Npl', 'H - Nam - Npl', 'Car - Npl - Nam', 'H - Npl - Nam', 'C - Npl - Nam', 'S - Car - S', 'C - S - Se', 'I - Car - Nar', 'C - Si - F', 'F - Si - O', 'F - Si - F', 'Nox - O - Si', 'F - C - Si', 'Car - C - Cl', 'Nox - C - Nox', 'C+ - N - C+', 'C+ - Npl - C+', 'Br - Car - Nar', 'C - S - H', 'Car - P - Npl', 'C - Npl - P', 'Cl - Car - S', 'B - O - Nox', 'Nox - C - O', 'Car - B - Cl', 'Si - O - Si', 'Npl - B - Npl', 'N+ - B - Npl', 'H - B - N+', 'B - N+ - H', 'B - N+ - B', 'C - S - Nam', 'Car - S - Nam', 'C - Nam - S', 'Car - Se - Car', 'Car - B - N+', 'Nar - Car - P', 'Nar - Car - So', 'F - B - O', 'F - B - Npl', 'Npl - B - O', 'C - P - H', 'Car - P - H', 'B - C - O', 'Car - N - So', 'N - Car - S', 'N - Car - Nar', 'O - Si - Si', 'N - Npl - So', 'H - Si - N', 'N - Si - N', 'N - C - Si', 'Cl - C - N', 'Npl - Ntr - O', 'C - Npl - Ntr', 'Car - Npl - Ntr', 'F - C - H', 'Car - Nar - Npl', 'H - Npl - Nar', 'C - So - Nam', 'H - Nox - O', 'C - Nox - H', 'N - B - Npl', 'Si - C - Si', 'Ntr - C - Ntr', 'Car - C - Si', 'B - Nar - Nar', 'Cac - C - N', 'Car - Nam - Nam', 'B - O - Car', 'H - P - H', 'F - B - N', 'B - N - Npl', 'Car - O - Si', 'C - So - Npl', 'Nar - N - O', 'Car - Nar - N', 'Nar - C - S', 'Car - Nam - Car', 'N - C - Nar', 'F - Car - S', 'Br - C - Car', 'Car - P - Si', 'N - Si - O', 'N - Si - P', 'O - Si - P', 'N - C - Se', 'Car - B - Npl', 'B - O - B', 'H - P - O', 'C - B - H', 'Cl - Si - N', 'P - N - Si', 'Si - N - Si', 'Nar - Npl - So', 'C - P - Se', 'F - P - F', 'C - P - F', 'Nam - C - Ng+', 'Ng+ - C - Ng+', 'H - Ng+ - H', 'C - Ng+ - H', 'C+ - N - Npl', 'Car - Nam - Npl', 'Car - C - Sox', 'S - O - Si', 'F - C - S', 'N - N - N', 'Car - C - N+', 'Npl - N - Npl', 'B - C - B', 'F - C - Ntr', 'N - Se - Se', 'Npl - Se - Se', 'C - N - Se', 'C - Npl - Se', 'Cl - P - Cl', 'Car - P - Cl', 'O - Car - P', 'Cl - Si - Npl', 'P - Npl - Si', 'Car - Sox - Car', 'C - B - P', 'So - C - So', 'Nar - B - O', 'H - Car - P', 'Nam - Car - S', 'Br - C - Npl', 'B - C - S', 'Cl - Si - O', 'Npl - C - Si', 'Nox - O - O', 'C - Ng+ - C+', 'Ng+ - C+ - Ng+', 'H - C - Ng+', 'C - C - Ng+', 'C+ - Ng+ - Car', 'C+ - Ng+ - Npl', 'Car - Ng+ - Npl', 'C+ - Ng+ - H', 'Car - Npl - Ng+', 'H - Npl - Ng+', 'Car - Car - Ng+', 'H - Si - Npl', 'Car - S - S', 'H - Npl - Npl', 'Npl - Car - O', 'Nar - Car - Si', 'N - So - Nar', 'Nam - S - O', 'Nox - O - S', 'Car - Si - H', 'N - N - So', 'H - Si - P', 'Car - Si - Cl', 'Cl - Si - P', 'Car - Si - P', 'H - P - Si', 'B - C - Si', 'C - Npl - Nar', 'Nar - Nar - Npl', 'Car - S - Nar', 'Car - Nar - S', 'C - Si - P', 'C - N - S', 'S - N - So', 'C - S - N', 'Cl - C - So', 'Car - P - P', 'B - B - Cl', 'Cac - C - Ng+', 'B - N - N', 'Nar - Si - Nar', 'Car - Nar - Si', 'Nar - Nar - Si', 'B - B - Br', 'Br - B - C', 'Br - B - Br', 'B - C - Npl', 'B - S - Car', 'H - B - S', 'N+ - B - S', 'Npl - P - Npl', 'Br - P - Npl', 'Nar - P - Nar', 'Car - Nar - P', 'H - Npl - Ntr', 'C - O - I', 'B - B - O', 'B - B - Car', 'C - P - Nar', 'Si - N - So', 'So - N - So', 'Npl - Si - Si', 'Nar - P - O', 'N - O - S', 'Br - C - F', 'Br - C - P', 'Cl - C - Sox', 'N - Si - Npl', 'N - Si - Nar', 'Nar - Si - Npl', 'N - N - Si', 'S - C - So', 'Car - Si - Nar', 'H - Si - Nar', 'Nox - C - P', 'F - Si - N', 'Car - Si - F', 'Cl - Si - F', 'Car - Si - N', 'F - Car - Nar', 'Br - C - Br', 'F - S - F', 'Car - S - F', 'C - O - Ntr', 'Br - C - So', 'C+ - Npl - Npl', 'Cl - P - N', 'N - P - S', 'Car - S - P', 'B - P - Npl', 'Nar - B - P', 'Nam - C - Nar', 'Car - P - Se', 'C - P - P', 'H - Si - O', 'H - Si - H', 'N - O - Si', 'Car - Se - Nar', 'Nar - Nar - Se', 'C - Car - Se', 'Car - C - Ntr', 'Car - P - Nam', 'Cl - P - P', 'P - P - P', 'N - C - Ng+', 'C - So - Nar', 'Nar - S - Nar', 'N - Si - Si', 'H - N - N', 'H - N - Si', 'Car - Se - Se', 'C - P - N', 'O - C - P', 'B - P - Car', 'H - B - P', 'C - Se - C', 'Car - C - Se', 'C - Nam - Nar', 'Car - Nar - Nam', 'Cl - B - Npl', 'Npl - Nox - O', 'Car - Nox - Npl', 'Car - Npl - Nox', 'O - S - S', 'P - O - S', 'Nar - Nar - So', 'Car - B - P', 'B - C - Nox', 'Br - C - S', 'Npl - N - O', 'H - B - N', 'F - B - N+', 'Car - S - N', 'Car - S - H', 'Br - B - Npl', 'Br - B - N', 'B - Npl - H', 'B - Nar - B', 'B - Nar - H', 'S - Car - Sox', 'N - C - Ntr', 'Nar - C - Npl', 'C - B - I', 'B - C - N', 'Npl - P - S', 'S - P - S', 'Car - P - Nar', 'Nar - P - Npl', 'N - Ntr - O', 'C+ - N - Ntr', 'C - Nam - Cl', 'Car - Nam - Cl', 'Nam - O - S', 'Br - C - N', 'P - N - So', 'Nam - C - Si', 'C - N - Nar', 'B - N - H', 'C - B - N', 'N - B - N', 'P - Npl - P', 'O - Se - O', 'C - O - Se', 'Car - Nam - So', 'B - B - P', 'B - C - P', 'C - Ng+ - Car', 'C - O - Nar', 'C - S - P', 'C - Si - Nam', 'C - Nam - Si', 'N - N - P', 'Nar - Car - Se', 'H - Car - Se', 'N - S - S', 'Br - Car - O', 'C - Si - Nar', 'B - N - Si', 'Cl - B - N', 'Nam - Nam - Nam', 'N - Nam - Nam', 'Npl - S - S', 'C - Npl - S', 'Car - Si - Si', 'Cl - B - Nar', 'Npl - P - Se', 'N - P - Se', 'Si - Npl - Si', 'Npl - C - Ntr', 'C - Se - Se', 'Ntr - Car - O', 'Cl - P - Npl', 'Npl - N - P', 'C - P - Cl', 'Cl - P - S', 'N - So - N', 'Car - N - Car', 'Npl - Npl - Si', 'Nox - Nox - O', 'C - Nox - Nox', 'N - Nam - P', 'Car - P - F', 'F - P - N', 'N - N - Npl', 'Car - C - I', 'B - P - N', 'Npl - S - Npl', 'Car - Npl - S', 'Cl - Se - Cl', 'B - O - S', 'C - Si - S', 'H - C - Pac', 'I - C - Npl', 'O - Car - Si', 'B - Car - Nar', 'Npl - Car - Se', 'Br - B - Car', 'O - Nox - So', 'C - Nox - So', 'Car - So - Nox', 'Nox - So - O', 'N - C - N+', 'N - B - O', 'Car - Si - Npl', 'H - Npl - Si', 'Npl - B - P', 'F - B - P', 'O - P - P', 'O - P - Se', 'P - P - Se', 'Br - P - N', 'Br - P - Car', 'Br - P - C', 'H - B - O', 'Car - N - Ntr', 'N+ - C - Nam', 'N+ - C - N+', 'N+ - C - O', 'C - S - So', 'Car - So - S', 'O - So - S', 'B - Si - Si', 'N - B - Si', 'Nam - N - So', 'S - O - S', 'Br - Si - Si', 'Br - Si - Br', 'C - Nar - O', 'S - S - S', 'Car - Sox - N', 'S - C - Si', 'N - Nox - O', 'C - N - Nox', 'Car - O - Nox', 'N - Nox - Nox', 'Cl - P - O', 'N - S - N', 'Car - Ng+ - H', 'C - Ng+ - C', 'Nam - P - Npl', 'N - S - Npl', 'Npl - S - O', 'Car - S - Npl', 'C - O - Pac', 'Nar - Si - O', 'Npl - P - P', 'Car - C - Ng+', 'C - Si - I', 'I - Si - Si', 'I - Si - I', 'Car - N - Npl', 'H - Si - Si', 'B - N - P', 'C - B - Cl', 'C - S - Npl', 'B - Nox - C', 'So - Npl - So', 'Nar - S - S', 'F - P - P', 'Br - Si - Npl', 'Br - Si - Car', 'B - P - O', 'C+ - N - Car', 'Cac - C - I', 'N - Npl - N', 'Npl - N - Si', 'B - Npl - N', 'C - Npl - Nox', 'Cl - Si - Si', 'Cl - C - Si', 'Npl - Si - O', 'Ng+ - So - O', 'Car - So - Ng+', 'C+ - Ng+ - So', 'O - C - Se', 'O - C - Sox', 'Cl - B - O', 'Nam - N - P', 'B - Npl - S', 'O - C - So', 'Nam - P - Se', 'Car - P - I', 'I - P - P', 'N - P - P', 'F - C - Npl', 'N - Npl - Npl', 'S - N - S', 'F - Si - Si', 'C+ - Npl - N', 'B - O - P', 'Npl - Se - S', 'Nar - Se - Nar', 'Car - Nar - Se', 'Nar - Car - Ng+', 'B - Npl - Npl', 'Npl - C - Se', 'Nam - N - Nox', 'Car - Nox - N', 'Npl - N - So', 'C - S - F', 'N+ - C - Si', 'C - Nox - N', 'C - Nox - Npl', 'C - N - Ntr', 'F - C - N', 'Cl - B - H', 'Cl - B - N+', 'C - Nox - O-', 'Cl - C - F', 'I - C - So', 'I - C - I', 'B - C - F', 'B - B - N+', 'C - Nar - Se', 'Nar - O - Si', 'F - S - N', 'Npl - B - S', 'Car - B - S', 'B - Car - H', 'Nam - C - Sac', 'C+ - Npl - So', 'Nam - S - Nam', 'C - Car - P', 'B - C - Nam', 'B - S - S', 'C - B - S', 'S - B - S', 'B - S - B', 'B - S - C', 'Npl - Se - Npl', 'Npl - C - Sac', 'C - N - Cl', 'Cl - N - So', 'N - N - O', 'N - Npl - P', 'Ntr - C - O', 'I - Se - P', 'C+ - Ng+ - C+', 'Br - C - O', 'Nam - C - Se', 'Nox - N - Npl', 'Nar - C - Se', 'Nox - O - P', 'B - Nam - C', 'Nam - B - Nar', 'Nox - O - Sac', 'Npl - Si - P', 'N - N - Nam', 'Cl - S - N', 'Nam - Sox - O', 'C - Sox - Nam', 'C - Nam - Sox', 'H - Nam - Sox', 'C - Nar - S', 'B - Npl - Si', 'N - P - Ng+', 'Ng+ - P - Ng+', 'C+ - Ng+ - P', 'P - C - So', 'Br - Si - C', 'H - Nam - Nar', 'P - N - S', 'Cl - C - S', 'Car - S - Si', 'S - Si - S', 'Npl - Si - S', 'Car - Nox - O-', 'N - O - Nox', 'C+ - Npl - Nar', 'C+ - N - N', 'Nar - Ntr - O', 'Car - Nar - Ntr', 'Nar - Nar - Ntr', 'Si - P - Si', 'P - Si - P', 'Nar - Nar - S', 'Nam - C - Nox', 'Br - C - Nam', 'H - P - Npl', 'Br - B - P', 'Br - B - H', 'S - Car - So', 'C - N - Ng+', 'C+ - Ng+ - N', 'H - Ng+ - N', 'N - P - Nar', 'P - S - S', 'Npl - Npl - P', 'H - P - N', 'H - P - S', 'Se - P - Se', 'P - Se - Se', 'S - C - Sox', 'I - O - I', 'HO - O - Si', 'P - Car - P', 'Car - Npl - Nar', 'Car - Se - N', 'S - N - Se', 'B - B - N', 'C+ - N - H', 'N+ - C - S', 'N - B - P', 'So - Nox - So', 'N+ - B - N+', 'Cl - Car - O', 'Car - O - N', 'C - Se - P', 'P - S - P', 'N - So - Npl', 'C+ - N - So', 'B - Car - S', 'H - Npl - S', 'B - Npl - C+', 'Cl - Se - N', 'Se - N - Se', 'Car - Se - Npl', 'Car - Npl - Se', 'O - O - S', 'Car - S - So', 'B - P - H', 'Nam - Car - O', 'Nox - C - Se', 'I - Nam - So', 'C - Nam - I', 'Nam - Si - Npl', 'Nam - Si - O', 'N - Nam - Si', 'Ntr - C - S', 'P - Npl - So', 'N - Se - N', 'P - N - Se', 'Br - Si - S', 'Nam - C - So', 'N - Npl - Nox', 'Car - Se - P', 'S - P - Se', 'Car - Nox - Car', 'Nam - Cac - O.co', 'C - Nam - Cac', 'Nam - Ntr - O', 'H - Nam - Ntr', 'C - Nam - Ntr', 'Se - C - Se', 'Car - N - P', 'H - P - P', 'I - C - S', 'O - O - Si', 'Br - Se - Br', 'Br - B - N+', 'N - P - N+', 'C - N+ - P', 'O - B - P', 'C+ - N - P', 'Nar - C - Sox', 'F - P - O', 'F - P - S', 'Si - C - So', 'Nam - O - P', 'Nar - C - Sac', 'I - C - P', 'S - C - Se', 'B - B - F', 'Se - N - So', 'Car - Nar - Ng+', 'C+ - Ng+ - Nar', 'H - Ng+ - Nar', 'Nar - C - Ntr', 'Ntr - Car - S', 'B - P - P', 'Cl - C - Ntr', 'F - B - Nam', 'Nam - B - Npl', 'Br - Si - P', 'C - P - Si', 'Si - Se - Si', 'Se - Si - Si', 'B - Se - B', 'Se - B - Se', 'C - B - Se', 'S - O - Se', 'O - Nar - So', 'F - C - Sox', 'F - Si - Npl', 'Npl - Sox - O', 'C - Sox - Npl', 'C - Npl - Sox', 'F - C - Nam', 'C - Se - N', 'Ntr - C - P', 'O - Nam - O', 'Br - P - Br', 'Nar - S - O', 'H - Nar - O', 'N - Se - S', 'Br - P - P', 'So - N - Sox', 'O - Nox - O-', 'Npl - Npl - Npl', 'Npl - Nar - O', 'C - Se - S', 'C - P - Nam', 'Car - O - Se', 'Nam - Car - Se', 'C - Se - Cl', 'F - C - Se', 'C - Ng+ - So', 'P - Se - P', 'C - S - Si', 'N - Si - S', 'C - Nam - Nox', 'Car - Nam - Nox', 'C - Nox - Nam', 'Nam - Nox - O', 'Car - Nam - O', 'N - Sox - Npl', 'H - Npl - Sox', 'B - Si - C', 'B - Si - Car', 'Si - B - Si', 'O - B - Si', 'N+ - N - So', 'C - N+ - N', 'Car - Se - H', 'C - Se - Npl', 'B - Nam - Car', 'C - B - Nam', 'Car - B - Nam', 'O - S - P', 'Npl - S - P', 'B - Nam - H', 'I - Car - S', 'F - C - I', 'Nar - Car - Sox', 'Br - B - Nar', 'Br - Se - Car', 'C - O - Sac', 'B - Npl - So', 'C+ - Npl - Ntr', 'Car - N - Si', 'N - Npl - S', 'N - Car - O', 'Npl - So - Npl', 'F - C - Nar', 'B - Nar - Npl', 'B - Npl - Nar', 'Ng+ - C - Ntr', 'C - Ng+ - Npl', 'C - Ng+ - N', 'Car - N - Ng+', 'N - B - S', 'B - B - S', 'Cac - C - Nar', 'N - C - So', 'Br - C - Ntr', 'Nam - B - O', 'Br - Se - C', 'Se - Se - Se', 'C+ - Npl - Si', 'Nar - Npl - Ntr', 'Npl - C - So', 'Br - N - So', 'H - N - Ng+', 'Nam - B - Nam', 'N - Npl - Se', 'O - Sox - O', 'Car - O - Sox', 'S - O - Sox', 'N+ - B - Nam', 'C - Si - Se', 'N - Si - Se', 'Cl - C - Nar', 'P - O - Si', 'P - B - S', 'Cl - P - Nar', 'Car - Se - S', 'Car - S - Se', 'N - Sac - O', 'C - N - Sac', 'H - N - Sac', 'B - C - Nar', 'N - N - Nar', 'N - So - Nam', 'Cl - Se - S', 'N+ - Sac - O', 'H - N+ - Sac', 'C - N+ - Sac', 'Cl - C - P', 'Npl - S - Se', 'N - S - Se', 'Nar - Nar - P', 'Se - Si - Se', 'C - Si - Ng+', 'C+ - Ng+ - Si', 'Si - Ng+ - Si', 'C - Ng+ - Si', 'Nox - C - S', 'S - Se - S', 'B - Si - N', 'H - B - Si', 'Nam - N - S', 'Nar - C - Si', 'Car - Si - Se', 'P - Car - Si', 'B - N - B', 'F - So - O', 'F - So - Npl', 'N - B - Nar', 'B - Npl - P', 'H - Nox - H', 'O - O - Sox', 'F - P - H', 'B - Se - Se', 'O - O - P', 'F - P - Npl', 'S - Npl - So', 'P - C - Se', 'N - N - Ng+', 'H - Nar - S', 'Nam - Sox - Nam', 'N - Nam - Sox', 'S - N - Si', 'H - S - H', 'Br - Si - O', 'C - So - S', 'I - C - N', 'I - C - Si', 'Nam - Nam - S', 'N - Npl - Si', 'Cl - So - O', 'Cl - So - N', 'B - Nox - H', 'H - B - Nox', 'B - So - O', 'B - So - Car', 'C - B - So', 'H - B - So', 'I - N - So', 'B - Car - Br', 'O - Sox - Sox', 'C - Sox - Sox', 'Sox - C - Sox', 'Nar - P - P', 'P - Nar - P', 'Nar - C - So', 'Car - Si - S', 'O - Si - S', 'Se - Car - Se', 'Se - Car - Si', 'Car - Npl - Sox', 'O - O - Pac', 'P - S - Si', 'Car - O - Nam', 'I - N - P', 'I - N - I', 'B - P - Si', 'N - C+ - Ng+', 'Ng+ - C+ - Npl', 'Ng+ - Ntr - O', 'C+ - Ng+ - Ntr', 'H - Ng+ - Ntr', 'H - S - Si', 'Car - S - Cl', 'Ng+ - Car - S', 'O - O - O', 'F - C - Sac', 'C - Npl - Cl', 'Car - B - I', 'B - B - I', 'I - B - N+', 'C - Se - H', 'Nox - C - Ntr', 'Car - Nox - Nox', 'Car - Nox - H', 'B - Si - Npl', 'Nar - B - Si', 'C - S - I', 'C - Si - N+', 'C - N+ - Si', 'B - N+ - Si', 'C - N - N+', 'C - O - Sox', 'Car - O - Sac', 'Br - S - S', 'So - C - Sox', 'Br - C - Si', 'B - C - I', 'N - B - Nam', 'C - P - N+', 'P - Si - Si', 'B - Car - O', 'Se - C - Si', 'Br - P - Se', 'Br - Se - P', 'Cl - B - S', 'C - Se - O', 'Nam - Si - Nam', 'Ng+ - C - O', 'Ntr - O - Si', 'Npl - N - S', 'So - Nam - So', 'Nar - C - P', 'Car - Nam - P', 'Nox - O - Nox', 'Nam - Npl - Npl', 'N - B - N+', 'B - Car - I', 'C - Npl - Ng+', 'H - Ng+ - Npl', 'Nar - B - S', 'HO - O - Se', 'P - P - S', 'Si - S - Si', 'S - Si - Si', 'Nar - Se - Se', 'Se - Nar - Se', 'H - S - Se', 'N - Se - O', 'Br - Si - H', 'B - Npl - B', 'N - Nar - Nar', 'C - Nar - P', 'Br - C - Nar', 'F - Si - N+', 'N+ - Si - N+', 'B - N - Car', 'Cl - P - Nam', 'Nar - C - Nox', 'B - N - So', 'Cl - S - Npl', 'Cl - S - Cl', 'C - S - Cl', 'N+ - P - O', 'H - N+ - P', 'Nam - N - O', 'H - P - Se', 'N+ - B - P', 'Nar - P - S', 'B - O - I', 'Cac - C - F', 'Nam - Npl - P', 'H - Nox - So', 'H - C - O-', 'I - P - O', 'B - Si - H', 'Nam - Nam - So', 'Car - So - Cl', 'N - Nam - So', 'B - S - P', 'N+ - C - Npl', 'Nam - N - Npl', 'F - N - F', 'C - N - F', 'Br - Si - N', 'B - Car - C', 'H - S - O', 'Br - S - N', 'H - N - Nox', 'C+ - Npl - P', 'F - P - Nar', 'P - P - Si', 'F - B - H', 'N - Se - P', 'H - P - N+', 'Cl - C - Pac', 'N - Nox - O-', 'Nox - Nox - O-', 'B - Se - Car', 'C - So - F', 'N - C - Sox', 'Npl - C - Sox', 'Br - B - S', 'Nox - C - So', 'F - So - N', 'S - Car - Se', 'F - Si - S', 'Nox - P - O', 'H - Nox - P', 'C - Ng+ - Nox', 'C+ - Ng+ - Nox', 'Ng+ - Nox - O', 'C - N+ - Nam', 'C - Nam - N+', 'Br - S - Car', 'Br - S - Br', 'Nam - So - Npl', 'Nam - P - Nam', 'I - B - Nar', 'B - Nar - Si', 'C - B - Si', 'B - O - N', 'C - Se - I', 'Cl - Npl - Cl', 'C+ - N - Si', 'Npl - Si - Se', 'I - B - S', 'I - B - I', 'Cl - C - N+', 'B - C - Br', 'O - So - So', 'Car - So - So', 'F - S - Npl', 'Ntr - Npl - S', 'N+ - Si - O', 'N+ - Si - Si', 'S - S - Si', 'O - Sac - S', 'Car - S - Sac', 'F - N - So', 'O - Car - Se', 'B - C - N+', 'C - Ng+ - Cl', 'Npl - Npl - Ntr', 'Nam - C - Ntr', 'Cl - P - Se', 'Cac - C - P', 'I - P - N', 'Cac - Nam - H', 'N - S - Nam', 'O - B - Se', 'Npl - B - Si', 'Car - B - Si', 'B - N - S', 'Nam - Nar - Nar', 'Cl - S - S', 'Cl - So - Nam', 'Cac - C - Sox', 'O - Sox - S', 'S - Sox - S', 'Car - S - Sox', 'N - Se - Npl', 'B - Se - C', 'Car - B - Se', 'Npl - B - Se', 'C+ - N - Nam', 'Npl - Nox - Npl', 'C - S - Sac', 'Nam - S - Npl', 'Car - Nam - S', 'Npl - Nar - S', 'Npl - Npl - So', 'I - I - S', 'Car - S - I', 'Nox - N - O', 'Nam - Si - Si', 'H - Nam - Si', 'Car - N - Nam', 'N - C - Sac', 'C - Nox - P', 'I - P - I', 'Car - Si - I', 'Car - Nox - P', 'Si - C - Sox', 'Car - N - S', 'Car - Sox - Sox', 'Sac - C - So', 'Cac - Car - S', 'C+ - Ng+ - Nam', 'H - Ng+ - Nam', 'C - Nam - Ng+', 'H - Nam - Ng+', 'N - Nox - N', 'Nar - Si - Si', 'Cl - Si - Nar', 'B - Si - I', 'B - N - Nam', 'Car - Se - Cl', 'B - Si - Cl', 'Nox - N - P', 'I - B - P', 'P - O - Pac', 'B - B - Nar', 'C - S - Sox', 'Cl - C - Sac', 'O - N - S', 'Br - C - Sox', 'B - Ntr - O', 'H - B - Ntr', 'C - B - Ntr', 'Cl - Si - S', 'B - O - Ntr', 'Car - C - Sac', 'Br - N+ - C', 'Nar - C - Ng+', 'Se - C - Sox', 'Nam - So - Nam', 'C+ - Npl - S', 'Cl - Se - Se', 'F - S - O', 'H - B - I', 'C - Sox - S', 'Ntr - Ntr - O', 'Cl - C - Se', 'F - C - Nox', 'Nar - Npl - Npl', 'O - C - Pac', 'B - Car - Se', 'Br - Se - Se', 'Ntr - Npl - Ntr', 'Nam - S - S', 'Br - Nam - C', 'B - B - Se', 'Cl - Si - N+', 'H - N+ - Si', 'Nam - Si - Nar', 'Car - Si - Nam', 'Car - Nam - Si', 'H - B - Nam', 'N+ - Si - Npl', 'Car - Si - N+', 'S - Nam - So', 'Nam - Npl - So', 'O - Si - Se', 'N - Car - Se', 'P - Nox - P', 'O - N - Se', 'O - Pac - O-', 'O- - Pac - O-', 'C- - O - Pac', 'C - C- - O', 'C- - C- - O', 'C - C- - C-', 'C - C - C-', 'C - O - C-', 'C- - C - O', 'C- - C - C-', 'C - C- - C', 'C - C- - Car', 'C- - Car - Nar', 'C- - Car - C-', 'Car - C- - O', 'C- - O - Car', 'C- - C- - C-', 'C- - C - N', 'C- - C - Npl', 'I - B - Npl', 'N - N - Se', 'C+ - N - S', 'C - So - Ng+', 'Nar - So - Nar', 'N+ - B - Nar', 'H - S - P', 'Br - N - S'])"
      ]
     },
     "execution_count": 4,
     "metadata": {},
     "output_type": "execute_result"
    }
   ],
   "source": [
    "# Checking if the import was successful\n",
    "bond_angles.keys()"
   ]
  },
  {
   "cell_type": "raw",
   "id": "8393c5dc",
   "metadata": {},
   "source": [
    "The format of bond_angle is:-\n",
    "Bond Angle, filename, Charge on atom 1, 2, 3, Bond Order 1, Bond Order 2, \n",
    "Hybridization of b, RingSize of atom 1, Ringsize of atom 2, \n",
    "Ringsize of atom 3, Neighbours\n",
    "\n",
    "Neighbour: Atom, Charge, Bond Order, Ring size"
   ]
  },
  {
   "cell_type": "markdown",
   "id": "b8da750c",
   "metadata": {},
   "source": [
    "## Making a list of exception"
   ]
  },
  {
   "cell_type": "code",
   "execution_count": 5,
   "id": "615335fd",
   "metadata": {},
   "outputs": [],
   "source": [
    "def correctHybridization(bond_angle, key):\n",
    "    '''Function to get the hybridization of an atom'''\n",
    "    central_atom = key.split(' ')[2]\n",
    "    no_neighbours = len(bond_angle[-2])\n",
    "    \n",
    "    if(central_atom=='C' and no_neighbours==2): # Checking for the neighbourse\n",
    "        return 3 #Making the hybridization sp3\n",
    "        \n",
    "    elif(central_atom=='C' and no_neighbours==0):\n",
    "        return 1 # Making the hybridization sp\n",
    "        \n",
    "    elif(central_atom=='C' and no_neighbours==1):\n",
    "        return 2 # Making the hybridization sp2\n",
    "    \n",
    "    #elif(central_atom=='C' and bond_angle[7]==3 and no_neighbours!=2):\n",
    "     #   \n",
    "    \n",
    "    else:\n",
    "        return bond_angle[7]\n",
    "    #1. Checking for no. of elements in neighbour and their type\n",
    "    #2. Checking hybridization based on bond orders.\n",
    "    #3. Summing up the bond orders"
   ]
  },
  {
   "cell_type": "code",
   "execution_count": 6,
   "id": "105739ce",
   "metadata": {},
   "outputs": [],
   "source": [
    "## Discarding outliers i.e. we don't really need them for predicting bond_angles\n",
    "def discardOutlier(bond_angle, key):\n",
    "    \n",
    "    '''Function to get the hybridization of an atom'''\n",
    "    \n",
    "    central_atom = key.split(' ')[2]\n",
    "    no_neighbours = len(bond_angle[-2])\n",
    "    \n",
    "    if(no_neighbours==2 and central_atom=='C' and bond_angle[0]>165): # Checking for the neighbourse\n",
    "        return 1\n",
    "        \n",
    "    elif(no_neighbours==1 and central_atom=='C' and bond_angle[0]>170):\n",
    "        return 1\n",
    "    \n",
    "    else:\n",
    "        return 0"
   ]
  },
  {
   "cell_type": "code",
   "execution_count": 7,
   "id": "afaefdd1",
   "metadata": {},
   "outputs": [],
   "source": [
    "## Some helper functions\n",
    "def filterAtom(atom: str) -> str:\n",
    "    '''Removes any number from the string e.g. C3 becomes C'''\n",
    "    pattern_order = r'[0-9]'\n",
    "    return re.sub(pattern_order, '', atom)"
   ]
  },
  {
   "cell_type": "code",
   "execution_count": 8,
   "id": "625844c3",
   "metadata": {},
   "outputs": [],
   "source": [
    "## Checker function to see if that bond_angle actually exists in the sdf\n",
    "\n",
    "@contextmanager\n",
    "def temporary_directory_change(new_directory):\n",
    "    original_directory = os.getcwd()  # Save the current working directory\n",
    "    os.chdir(new_directory)           # Change to the new directory\n",
    "    yield                             # Provide control back to the caller\n",
    "    os.chdir(original_directory)      # Revert to the original directory\n",
    "    \n",
    "    \n",
    "def checkBondAngle(bondAngle, key, file):\n",
    "    if(file[0]=='0'): folder='O/'\n",
    "    else: folder = file[:2]\n",
    "        \n",
    "    with temporary_directory_change('21395061/cod-crest/' + folder):\n",
    "        filename = file.split('.')[0]\n",
    "        try:\n",
    "            mol = next(pybel.readfile('sdf', filename[2:]+'.sdf'))\n",
    "\n",
    "        except:\n",
    "            print(\"Sdf not opened able\", filename)\n",
    "            try:\n",
    "                mol = next(pybel.readfile('xyz', filename[2:]+'.xyz'))\n",
    "            except:\n",
    "                return 1\n",
    "\n",
    "        for angle in ob.OBMolAngleIter(mol.OBMol):\n",
    "            b = mol.OBMol.GetAtom(angle[0] + 1)\n",
    "            a = mol.OBMol.GetAtom(angle[1] + 1)\n",
    "            c = mol.OBMol.GetAtom(angle[2] + 1)\n",
    "            bond_angle = mol.OBMol.GetAngle(a, b, c)\n",
    "            \n",
    "            a_atomType = filterAtom(a.GetType())\n",
    "            b_atomType = filterAtom(b.GetType())\n",
    "            c_atomType = filterAtom(c.GetType())\n",
    "            atoms = key.split(' ')\n",
    "            \n",
    "            cond_1 = (atoms[0]==a_atomType) and (atoms[2]==b_atomType) and (atoms[4]==c_atomType)\n",
    "            cond_2 = (atoms[4]==a_atomType) and (atoms[2]==b_atomType) and (atoms[0]==c_atomType)\n",
    "            \n",
    "            if(np.abs(bond_angle - bondAngle)<=1 and (cond_1 or cond_2)):\n",
    "                return 0\n",
    "            \n",
    "        return 1"
   ]
  },
  {
   "cell_type": "markdown",
   "id": "9217fe02",
   "metadata": {},
   "source": [
    "## Filtering out the errorenous data points "
   ]
  },
  {
   "cell_type": "code",
   "execution_count": 13,
   "id": "416a3af1",
   "metadata": {},
   "outputs": [
    {
     "name": "stdout",
     "output_type": "stream",
     "text": [
      "C - C - H [170.2042362444216 'B/BRXOSZVUMUVRBG-ISUNJMEDSA-N.xyz'\n",
      " -0.32263784394910744 0.18529995639751465 0.19304586463069182\n",
      " 0.9377989664042766 0.7288575098085266 3 0 0 0\n",
      " list([['H', 0.04831057871168722, 0.9297611203458154, 0], ['H', 0.12484791041185199, 0.8077118204805321, 0]])]\n",
      "C - C - H [179.23252024775596 'C/CSXCKTBBSXTYDY-GJJXMTLWSA-M.xyz'\n",
      " -0.11975558488202243 -0.19916352673514995 0.22882232594066335\n",
      " 0.7058783018401552 0.7019243667569639 3 0 0 0\n",
      " list([['C', -0.17156807316350886, 0.8922917180967372, 0], ['C', -0.22546619324490058, 1.0077025222855882, 0]])]\n",
      "C - C - H [178.33111123550574 'C/CSXCKTBBSXTYDY-GJJXMTLWSA-M.xyz'\n",
      " -0.17156807316350886 -0.11975558488202243 0.16156100793968042\n",
      " 0.8922917180967372 0.7769485622740788 3 0 0 0\n",
      " list([['H', 0.03725433104030093, 0.8607240046992728, 0], ['C', -0.048820303951156635, 0.9293458061351141, 0]])]\n",
      "H - C - H [177.26962434919517 'H/HMHWMRRWHGJAIT-UHFFFAOYSA-M.xyz'\n",
      " -0.16340797212218594 0.10834161777363208 0.3566284608893144\n",
      " 0.9641866773243651 0.4525782760092853 2 0 0 0\n",
      " list([['C', -0.09717189820494729, 0.9448067766480278, 0]])]\n",
      "H - C - H [170.11738717059976 'Q/QZTNFUYIXQMQAO-QSDZBBFWSA-N.xyz'\n",
      " -0.21994459410323156 0.0960266612164692 0.07912970465231829\n",
      " 0.900133074121611 0.941437211243601 3 0 0 0\n",
      " list([['C', -0.04528069794493694, 0.888074719613808, 0], ['H', 0.09184287891818572, 0.8577860908207819, 0]])]\n",
      "Npl - C - O [176.23587317583517 'B/BIAOYEZFPOIAKK-UHFFFAOYSA-N.xyz'\n",
      " 0.030246272299235932 -0.2961636351993524 0.2213397049084206\n",
      " 1.3383875399371594 0.5448430012631021 3 3 3 4\n",
      " list([['C', -0.047415323076715386, 0.4850557478890669, 3], ['C', 0.030293480985396817, 0.6480371579119208, 3]])]\n",
      "Npl - C - O [176.22906083991842 'B/BIAOYEZFPOIAKK-UHFFFAOYSA-N.xyz'\n",
      " 0.030293480985396817 0.2213397049084206 -0.29621604792392625\n",
      " 1.3388908883885944 0.5444612248206964 3 3 3 4\n",
      " list([['C', 0.030246272299235932, 0.6480371579119208, 3], ['C', -0.047415323076715386, 0.4852369865574485, 3]])]\n",
      "Npl - C - O [175.97331473828297 'X/XQUNHOHNABOREH-UHFFFAOYSA-N.xyz'\n",
      " 0.018872925270884675 -0.27191806592791595 0.2372203878969537\n",
      " 1.3444224486151073 0.4386070262738729 3 3 3 4\n",
      " list([['C', -0.01944117858031085, 0.4957042906364951, 3], ['C', 0.01873692071644724, 0.6354653845731433, 3]])]\n",
      "Npl - C - O [175.9694200707131 'X/XQUNHOHNABOREH-UHFFFAOYSA-N.xyz' 0.01873692071644724\n",
      " 0.2372203878969537 -0.27194670845914565 1.3444373570026444\n",
      " 0.43789582684403444 3 3 3 4\n",
      " list([['C', 0.018872925270884675, 0.6354653845731433, 3], ['C', -0.01944117858031085, 0.4960493307567257, 3]])]\n"
     ]
    }
   ],
   "source": [
    "# Do a pre-filter over the entire dataset\n",
    "for key in bond_angles:\n",
    "    for num, j in enumerate(bond_angles[key]):\n",
    "        \n",
    "        # Correcting the hybridization based on no. of neighbouring atoms\n",
    "        j[7] = correctHybridization(j, key)\n",
    "            \n",
    "        if(discardOutlier(j, key)==1):\n",
    "            print(key, j[:-1])\n",
    "            if(checkBondAngle(j[0], key, j[-1])):\n",
    "                print(\"Deleted\")\n",
    "                bond_angles[key].pop(num)"
   ]
  },
  {
   "cell_type": "code",
   "execution_count": 10,
   "id": "9137a094",
   "metadata": {
    "scrolled": true
   },
   "outputs": [],
   "source": [
    "for key in bond_angles:\n",
    "    if(key.split(' ')[2]!='C'):\n",
    "        continue\n",
    "        \n",
    "    for num, j in enumerate(bond_angles[key]):\n",
    "        if(j[0]>160 and j[7]!=1):\n",
    "            #j[7] = correctHybridization(j, key)\n",
    "            \n",
    "            # Deleting those molecules which had parsing error in file\n",
    "            ret = checkBondAngle(j[0], key, j[-1])\n",
    "            if(ret==1):  bond_angles[key].pop(num)"
   ]
  },
  {
   "cell_type": "markdown",
   "id": "a9f87e83",
   "metadata": {},
   "source": [
    "### Dumping into a corrected bond-angle pickle file"
   ]
  },
  {
   "cell_type": "code",
   "execution_count": 15,
   "id": "1110f5d7",
   "metadata": {},
   "outputs": [
    {
     "ename": "KeyboardInterrupt",
     "evalue": "",
     "output_type": "error",
     "traceback": [
      "\u001b[0;31m---------------------------------------------------------------------------\u001b[0m",
      "\u001b[0;31mKeyboardInterrupt\u001b[0m                         Traceback (most recent call last)",
      "Cell \u001b[0;32mIn[15], line 2\u001b[0m\n\u001b[1;32m      1\u001b[0m \u001b[38;5;28;01mwith\u001b[39;00m \u001b[38;5;28mopen\u001b[39m(\u001b[38;5;124m'\u001b[39m\u001b[38;5;124mcorrected_BondAngles.pkl\u001b[39m\u001b[38;5;124m'\u001b[39m, \u001b[38;5;124m'\u001b[39m\u001b[38;5;124mwb\u001b[39m\u001b[38;5;124m'\u001b[39m) \u001b[38;5;28;01mas\u001b[39;00m file:\n\u001b[0;32m----> 2\u001b[0m     \u001b[43mpickle\u001b[49m\u001b[38;5;241;43m.\u001b[39;49m\u001b[43mdump\u001b[49m\u001b[43m(\u001b[49m\u001b[43mbond_angles\u001b[49m\u001b[43m,\u001b[49m\u001b[43m \u001b[49m\u001b[43mfile\u001b[49m\u001b[43m)\u001b[49m\n",
      "\u001b[0;31mKeyboardInterrupt\u001b[0m: "
     ]
    }
   ],
   "source": [
    "with open('corrected_BondAngles.pkl', 'wb') as file:\n",
    "    pickle.dump(bond_angles, file)"
   ]
  }
 ],
 "metadata": {
  "kernelspec": {
   "display_name": "Python 3 (ipykernel)",
   "language": "python",
   "name": "python3"
  },
  "language_info": {
   "codemirror_mode": {
    "name": "ipython",
    "version": 3
   },
   "file_extension": ".py",
   "mimetype": "text/x-python",
   "name": "python",
   "nbconvert_exporter": "python",
   "pygments_lexer": "ipython3",
   "version": "3.11.4"
  }
 },
 "nbformat": 4,
 "nbformat_minor": 5
}
