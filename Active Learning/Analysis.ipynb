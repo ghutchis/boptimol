{
 "cells": [
  {
   "cell_type": "code",
   "execution_count": 13,
   "id": "bcaf2da6",
   "metadata": {},
   "outputs": [],
   "source": [
    "# Importing the require modules\n",
    "import numpy as np\n",
    "import pandas as pd\n",
    "\n",
    "import sys\n",
    "import os\n",
    "import re\n",
    "from pprint import pprint\n",
    "\n",
    "from openbabel import pybel\n",
    "from openbabel import openbabel"
   ]
  },
  {
   "cell_type": "code",
   "execution_count": 3,
   "id": "15121577",
   "metadata": {},
   "outputs": [],
   "source": [
    "def filterAtom(atom: str) -> str:\n",
    "    '''Removes any number from the string e.g. C3 becomes C'''\n",
    "    pattern_order = r'[0-9]'\n",
    "    return re.sub(pattern_order, '', atom)\n",
    "\n",
    "def atomType(mol, atomIdx):\n",
    "    '''get the atomic type given an atom index'''\n",
    "    return mol.OBMol.GetAtom(atomIdx).GetType()"
   ]
  },
  {
   "cell_type": "code",
   "execution_count": 10,
   "id": "702960cf",
   "metadata": {},
   "outputs": [],
   "source": [
    "def getBonds(mol):\n",
    "    '''Iterate through all the bonds in a molecule'''\n",
    "    \n",
    "    bonds = {}\n",
    "    \n",
    "    for bond in ob.OBMolBondIter(mol.OBMol):\n",
    "        begin = filterAtom(atomType(mol, bond.GetBeginAtomIdx()))\n",
    "        end = filterAtom(atomType(mol, bond.GetEndAtomIdx()))\n",
    "        \n",
    "        # Swap them for lexographic order\n",
    "        if (end < begin):\n",
    "            begin, end = end, begin\n",
    "        \n",
    "        #Appending to the dictionary of list\n",
    "        if (f\"{begin} - {end}\" in bonds.keys()):\n",
    "            bonds[f\"{begin} - {end}\"].append(round(bond.GetLength(),4))\n",
    "        else:\n",
    "            bonds[f\"{begin} - {end}\"]=[round(bond.GetLength(),4)]\n",
    "        \n",
    "    return bonds"
   ]
  },
  {
   "cell_type": "code",
   "execution_count": 5,
   "id": "e6794bdc",
   "metadata": {},
   "outputs": [],
   "source": [
    "def getAngles(mol):\n",
    "    '''Iterate through all the bond angles in a molecule'''\n",
    "    \n",
    "    angles = {}\n",
    "    \n",
    "    for angle in ob.OBMolAngleIter(mol.OBMol):\n",
    "        a = angle[0] + 1\n",
    "        b = mol.OBMol.GetAtom(angle[1] + 1)\n",
    "        c = angle[2] + 1\n",
    "        bond_angle = b.GetAngle(a, c)\n",
    "\n",
    "        aType = filterAtom(atomType(mol, a))\n",
    "        bType = filterAtom(b.GetType())\n",
    "        cType = filterAtom(atomType(mol, c))\n",
    "        \n",
    "        # Swap them for lexographic order\n",
    "        if (cType < aType):\n",
    "            aType, cType = cType, aType\n",
    "            \n",
    "        #Appedning to the dictonary of lists if the angle b/t the elements already existse\n",
    "        if(f\"{aType} - {bType} - {cType}\" in angles.keys()):\n",
    "            angles[f\"{aType} - {bType} - {cType}\"].append(round(bond_angle ,3))\n",
    "        else:\n",
    "            angles[f\"{aType} - {bType} - {cType}\"] = [round(bond_angle ,3)]                                                                                      \n",
    "                                                                                                     \n",
    "    return angles"
   ]
  },
  {
   "cell_type": "code",
   "execution_count": 6,
   "id": "997f41fa",
   "metadata": {},
   "outputs": [],
   "source": [
    "def getTorsions(mol):\n",
    "    '''Iterate through all the torsions in a molecule'''\n",
    "    \n",
    "    torsions = {}\n",
    "    \n",
    "    for torsion in ob.OBMolTorsionIter(mol.OBMol):\n",
    "        a = torsion[0] + 1\n",
    "        b = torsion[1] + 1\n",
    "        c = torsion[2] + 1\n",
    "        d = torsion[3] + 1\n",
    "        torsion_angle = mol.OBMol.GetTorsion(a, b, c, d)\n",
    "\n",
    "        aType = filterAtom(atomType(mol, a))\n",
    "        bType = filterAtom(atomType(mol, b))\n",
    "        cType = filterAtom(atomType(mol, c))\n",
    "        dType = filterAtom(atomType(mol, d))\n",
    "\n",
    "        # Switch if not in lexographic order\n",
    "        if(dType < aType):\n",
    "            aType, dType = dType, aType\n",
    "            \n",
    "        #Appedning to the dictonary of lists if the torsion angle b/t the elements already existse\n",
    "        if(f\"{aType} - {bType} - {cType} -{dType}\" in torsions.keys()):\n",
    "            torsions[f\"{aType} - {bType} - {cType} -{dType}\"].append(round(torsion_angle, 3))\n",
    "        \n",
    "        # Checking for palindromic sequence\n",
    "        elif(f\"{dType} - {cType} - {bType} -{aType}\" in torsions.keys()):\n",
    "            torsions[f\"{dType} - {cType} - {bType} -{aType}\"].append(round(torsion_angle, 3))\n",
    "            \n",
    "        else:\n",
    "            torsions[f\"{aType} - {bType} - {cType} -{dType}\"] = [round(torsion_angle, 3)]\n",
    "    \n",
    "    return torsions"
   ]
  },
  {
   "cell_type": "code",
   "execution_count": 37,
   "id": "c4d32f9e",
   "metadata": {},
   "outputs": [],
   "source": [
    "def analyze_molecular_data(file: str):\n",
    "    '''Fetches the bond lengths, angles and dihedrals from a given file'''\n",
    "    \n",
    "    # Load the File\n",
    "    extension=file.split('.')[-1]\n",
    "    mol = next(pybel.readfile(extension, file))\n",
    "\n",
    "    # Get bond lengths\n",
    "    bond_lengths = getBonds(mol)\n",
    "    \n",
    "    # Get bond angles\n",
    "    bond_angles = getAngles(mol)\n",
    "    \n",
    "    # Get torsions\n",
    "    dihedrals = getTorsions(mol)\n",
    "\n",
    "    return (bond_lengths, bond_angles, dihedrals)\n",
    "\n",
    "\n",
    "def mergeDictionaries(dict1 : dict, dict2) -> dict:\n",
    "    '''Merges two Python dictionary by combining elements for a common key\n",
    "    The function merges dict2 into dict 1'''\n",
    "    \n",
    "    for key, value in dict2:\n",
    "        if key in dict1:\n",
    "            dict1[key].extend(value)\n",
    "        else:\n",
    "            dict1[key] = value\n",
    "    \n",
    "    return dict1\n",
    "\n",
    "\n",
    "# Create a pandas DataFrame to store the molecular data\n",
    "# data = pd.DataFrame({\n",
    "#     'Bond Length': bond_lengths,\n",
    "#     'Bond Angle': bond_angles,\n",
    "#     'Dihedral': dihedrals\n",
    "# })"
   ]
  },
  {
   "cell_type": "code",
   "execution_count": 14,
   "id": "46e81cb1",
   "metadata": {},
   "outputs": [
    {
     "name": "stdout",
     "output_type": "stream",
     "text": [
      "({'C - C': [1.5216, 1.52, 1.5151],\n",
      "  'C - Cl': [1.8124, 1.7853],\n",
      "  'C - H': [1.1053, 1.0903, 1.0896, 1.0871, 1.088, 1.0868],\n",
      "  'C - O': [1.193]},\n",
      " {'C - C - C': [111.77, 112.772, 113.7],\n",
      "  'C - C - Cl': [101.188, 106.85, 109.628, 109.119],\n",
      "  'C - C - H': [109.839, 109.054, 110.736, 111.398, 111.201, 112.922],\n",
      "  'C - C - O': [124.6],\n",
      "  'C - H - Cl': [107.231, 107.75],\n",
      "  'C - H - H': [108.517, 109.413, 109.244, 109.987],\n",
      "  'C - O - H': [122.405]},\n",
      " {'C - C - C -Cl': [-59.374, 69.713],\n",
      "  'C - C - C -H': [-40.336,\n",
      "                   -169.91,\n",
      "                   58.827,\n",
      "                   -172.086,\n",
      "                   -178.096,\n",
      "                   -49.009,\n",
      "                   -47.071,\n",
      "                   71.732,\n",
      "                   -168.028,\n",
      "                   -175.648,\n",
      "                   -56.845,\n",
      "                   63.394],\n",
      "  'C - C - C -O': [142.7, 13.127],\n",
      "  'Cl - C - C -Cl': [-169.206],\n",
      "  'Cl - C - C -H': [73.065, -51.005, 72.072, 64.837, -176.36, -56.121],\n",
      "  'Cl - C - C -O': [-103.899]})\n"
     ]
    }
   ],
   "source": [
    "# Example usage\n",
    "xyz_file = '21395061/pubchemqc/1/000025003.xyz'\n",
    "#mol = next(pybel.readfile('xyz', xyz_file))\n",
    "#pprint(getBonds(mol))\n",
    "#pprint(getAngles(mol))\n",
    "#pprint(getTorsions(mol))\n",
    "\n",
    "molecular_data = analyze_molecular_data(xyz_file)\n",
    "pprint(molecular_data)"
   ]
  },
  {
   "cell_type": "code",
   "execution_count": 47,
   "id": "30687403",
   "metadata": {},
   "outputs": [
    {
     "name": "stdout",
     "output_type": "stream",
     "text": [
      "21395061/cod-crest/R/RLFWWDJHLFCNIJ-UHFFFAOYSA-N.xyz\n",
      "{'C - H': [1.0957, 1.0882, 1.0876, 1.0905, 1.0866, 1.0891], 'Car - H': [1.0772, 1.0797, 1.0796, 1.0799, 1.0803], 'C - Nar': [1.4514], 'Car - Car': [1.382, 1.392, 1.3853, 1.3931, 1.4575, 1.356, 1.3847, 1.3823], 'Car - Nar': [1.3984, 1.3839, 1.3996], 'Nar - Nar': [1.4004], 'Car - O': [1.2189], 'C - Car': [1.4881], 'Car - Npl': [1.3865], 'H - Npl': [1.0121, 1.0097]}\n"
     ]
    },
    {
     "ename": "ValueError",
     "evalue": "too many values to unpack (expected 2)",
     "output_type": "error",
     "traceback": [
      "\u001b[0;31m---------------------------------------------------------------------------\u001b[0m",
      "\u001b[0;31mValueError\u001b[0m                                Traceback (most recent call last)",
      "Cell \u001b[0;32mIn[47], line 19\u001b[0m\n\u001b[1;32m     17\u001b[0m length, angle, torsion \u001b[38;5;241m=\u001b[39m analyze_molecular_data(filename)\n\u001b[1;32m     18\u001b[0m \u001b[38;5;28mprint\u001b[39m(length)\n\u001b[0;32m---> 19\u001b[0m bond_lengths \u001b[38;5;241m=\u001b[39m \u001b[43mmergeDictionaries\u001b[49m\u001b[43m(\u001b[49m\u001b[43mbond_lengths\u001b[49m\u001b[43m,\u001b[49m\u001b[43m \u001b[49m\u001b[43mlength\u001b[49m\u001b[43m)\u001b[49m\n\u001b[1;32m     20\u001b[0m bond_angles \u001b[38;5;241m=\u001b[39m mergeDictionaries(bond_angles, angle)\n\u001b[1;32m     21\u001b[0m dihedrals \u001b[38;5;241m=\u001b[39m mergeDictionaries(dihedrals, torsion)\n",
      "Cell \u001b[0;32mIn[37], line 24\u001b[0m, in \u001b[0;36mmergeDictionaries\u001b[0;34m(dict1, dict2)\u001b[0m\n\u001b[1;32m     20\u001b[0m \u001b[38;5;28;01mdef\u001b[39;00m \u001b[38;5;21mmergeDictionaries\u001b[39m(dict1 : \u001b[38;5;28mdict\u001b[39m, dict2) \u001b[38;5;241m-\u001b[39m\u001b[38;5;241m>\u001b[39m \u001b[38;5;28mdict\u001b[39m:\n\u001b[1;32m     21\u001b[0m \u001b[38;5;250m    \u001b[39m\u001b[38;5;124;03m'''Merges two Python dictionary by combining elements for a common key\u001b[39;00m\n\u001b[1;32m     22\u001b[0m \u001b[38;5;124;03m    The function merges dict2 into dict 1'''\u001b[39;00m\n\u001b[0;32m---> 24\u001b[0m     \u001b[38;5;28;01mfor\u001b[39;00m key, value \u001b[38;5;129;01min\u001b[39;00m dict2:\n\u001b[1;32m     25\u001b[0m         \u001b[38;5;28;01mif\u001b[39;00m key \u001b[38;5;129;01min\u001b[39;00m dict1:\n\u001b[1;32m     26\u001b[0m             dict1[key]\u001b[38;5;241m.\u001b[39mextend(value)\n",
      "\u001b[0;31mValueError\u001b[0m: too many values to unpack (expected 2)"
     ]
    }
   ],
   "source": [
    "#Collecting data from the Molecular Dataset\n",
    "\n",
    "bond_lengths = {}\n",
    "bond_angles = {}\n",
    "dihedrals = {}\n",
    "\n",
    "ext = ('sdf', 'xyz')\n",
    "\n",
    "for root, dirs, files in os.walk('21395061/cod-crest/'):\n",
    "    for file in files:\n",
    "        extension=file.split('.')[-1]\n",
    "        if(extension not in ext): continue\n",
    "            \n",
    "        filename = os.path.join(root,file)\n",
    "        print(filename)\n",
    "\n",
    "        length, angle, torsion = analyze_molecular_data(filename)\n",
    "        print(length)\n",
    "        bond_lengths = mergeDictionaries(bond_lengths, length)\n",
    "        bond_angles = mergeDictionaries(bond_angles, angle)\n",
    "        dihedrals = mergeDictionaries(dihedrals, torsion)"
   ]
  },
  {
   "cell_type": "code",
   "execution_count": 51,
   "id": "2e7fc80b",
   "metadata": {},
   "outputs": [
    {
     "name": "stdout",
     "output_type": "stream",
     "text": [
      "{'C - Car': [1.4881],\n",
      " 'C - H': [1.0957, 1.0882, 1.0876, 1.0905, 1.0866, 1.0891],\n",
      " 'C - Nar': [1.4514],\n",
      " 'Car - Car': [1.382, 1.392, 1.3853, 1.3931, 1.4575, 1.356, 1.3847, 1.3823],\n",
      " 'Car - H': [1.0772, 1.0797, 1.0796, 1.0799, 1.0803],\n",
      " 'Car - Nar': [1.3984, 1.3839, 1.3996],\n",
      " 'Car - Npl': [1.3865],\n",
      " 'Car - O': [1.2189],\n",
      " 'H - Npl': [1.0121, 1.0097],\n",
      " 'Nar - Nar': [1.4004]}\n"
     ]
    }
   ],
   "source": [
    "length, angle, torsion = analyze_molecular_data('21395061/cod-crest/R/RLFWWDJHLFCNIJ-UHFFFAOYSA-N.xyz')\n",
    "pprint(length)"
   ]
  },
  {
   "cell_type": "code",
   "execution_count": 52,
   "id": "00f8fcc9",
   "metadata": {},
   "outputs": [
    {
     "name": "stdout",
     "output_type": "stream",
     "text": [
      "{'C - Car - Car': [129.648],\n",
      " 'C - Car - H': [111.08, 109.643, 110.643],\n",
      " 'C - Car - Nar': [118.188],\n",
      " 'C - H - H': [108.023, 108.386, 108.997, 108.839, 109.302, 108.977],\n",
      " 'C - Nar - Car': [120.213],\n",
      " 'C - Nar - H': [112.02, 109.167, 108.49],\n",
      " 'C - Nar - Nar': [115.298],\n",
      " 'Car - Car - Car': [119.902,\n",
      "                     119.649,\n",
      "                     120.551,\n",
      "                     119.713,\n",
      "                     120.367,\n",
      "                     119.804,\n",
      "                     108.098],\n",
      " 'Car - Car - H': [119.397, 119.451, 120.211, 120.131, 119.779, 120.405],\n",
      " 'Car - Car - Nar': [125.449],\n",
      " 'Car - Car - Npl': [121.087, 130.766],\n",
      " 'Car - H - Car': [120.941, 119.996, 120.073, 119.499],\n",
      " 'Car - Nar - Car': [104.84, 119.424, 120.672, 110.117],\n",
      " 'Car - Nar - Nar': [105.842],\n",
      " 'Car - O - Car': [128.962],\n",
      " 'Car - O - Nar': [126.153],\n",
      " 'H - Car - Npl': [110.85, 115.252],\n",
      " 'H - H - Npl': [112.833],\n",
      " 'Nar - Car - Nar': [120.704, 110.802]}\n"
     ]
    }
   ],
   "source": [
    "pprint(angle)"
   ]
  },
  {
   "cell_type": "code",
   "execution_count": 53,
   "id": "f6ca7322",
   "metadata": {},
   "outputs": [
    {
     "name": "stdout",
     "output_type": "stream",
     "text": [
      "{'C - Car - Car -Car': [-179.382],\n",
      " 'C - Car - Car -Npl': [-1.965],\n",
      " 'C - Nar - Car -C': [45.651],\n",
      " 'C - Nar - Car -Car': [-135.872],\n",
      " 'C - Nar - Car -Nar': [176.65],\n",
      " 'C - Nar - Nar -Car': [-60.369, 138.335],\n",
      " 'Car - C - Nar -H': [55.531, 176.151, -65.213],\n",
      " 'Car - Car - C -H': [106.339, -12.98, -133.233],\n",
      " 'Car - Car - Car -Car': [0.772, 0.294, -1.058, -1.069, 0.272, 0.786],\n",
      " 'Car - Car - Car -H': [179.481,\n",
      "                        -179.661,\n",
      "                        -178.435,\n",
      "                        179.377,\n",
      "                        179.444,\n",
      "                        177.655,\n",
      "                        -179.06,\n",
      "                        179.77,\n",
      "                        -179.877,\n",
      "                        -177.93],\n",
      " 'Car - Car - Car -Nar': [179.67, 179.562, 1.184, 2.328],\n",
      " 'Car - Car - Car -O': [-176.452],\n",
      " 'Car - Car - Npl -H': [-17.449, -147.148, 165.419, 35.72],\n",
      " 'Car - Nar - Car -Car': [-44.752, 134.62, -164.504],\n",
      " 'Car - Nar - Car -Nar': [156.84, -23.788, -4.288, -4.873],\n",
      " 'Car - Nar - Car -O': [13.219],\n",
      " 'Car - Nar - Nar -Car': [167.003, 5.708],\n",
      " 'H - C - Nar -Nar': [-71.045, 49.575, 168.211],\n",
      " 'H - Car - C -Nar': [-75.519, 165.163, 44.91],\n",
      " 'H - Car - Car -H': [-0.951, -0.121, 0.438, 1.407],\n",
      " 'H - Car - Car -Nar': [0.941, -1.713],\n",
      " 'Nar - Car - Car -Npl': [-176.532, 179.744],\n",
      " 'Nar - Nar - Car -O': [173.435],\n",
      " 'Npl - Car - Car -O': [5.833]}\n"
     ]
    }
   ],
   "source": [
    "pprint(torsion)"
   ]
  },
  {
   "cell_type": "code",
   "execution_count": null,
   "id": "4ecccf63",
   "metadata": {},
   "outputs": [],
   "source": []
  }
 ],
 "metadata": {
  "kernelspec": {
   "display_name": "Python 3 (ipykernel)",
   "language": "python",
   "name": "python3"
  },
  "language_info": {
   "codemirror_mode": {
    "name": "ipython",
    "version": 3
   },
   "file_extension": ".py",
   "mimetype": "text/x-python",
   "name": "python",
   "nbconvert_exporter": "python",
   "pygments_lexer": "ipython3",
   "version": "3.11.4"
  }
 },
 "nbformat": 4,
 "nbformat_minor": 5
}
